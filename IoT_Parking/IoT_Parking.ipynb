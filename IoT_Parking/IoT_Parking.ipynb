{
 "cells": [
  {
   "cell_type": "code",
   "execution_count": 1,
   "metadata": {},
   "outputs": [
    {
     "name": "stderr",
     "output_type": "stream",
     "text": [
      "c:\\Users\\youss\\anaconda3\\lib\\site-packages\\pandas\\core\\computation\\expressions.py:20: UserWarning: Pandas requires version '2.7.3' or newer of 'numexpr' (version '2.7.1' currently installed).\n",
      "  from pandas.core.computation.check import NUMEXPR_INSTALLED\n"
     ]
    }
   ],
   "source": [
    "import os\n",
    "import cv2\n",
    "import numpy as np\n",
    "import pandas as pd\n",
    "from sklearn.model_selection import train_test_split\n",
    "from tensorflow.keras.utils import to_categorical\n",
    "from tensorflow.keras.models import Sequential\n",
    "from tensorflow.keras.layers import Conv2D, MaxPooling2D, Flatten, Dense, Dropout"
   ]
  },
  {
   "cell_type": "code",
   "execution_count": 2,
   "metadata": {},
   "outputs": [],
   "source": [
    "base=''\n",
    "classes = ['empty', 'not_empty'] "
   ]
  },
  {
   "cell_type": "code",
   "execution_count": 3,
   "metadata": {},
   "outputs": [],
   "source": [
    "def load_images(base,classes, img_size=(70, 30)):\n",
    "    images = []\n",
    "    labels = []\n",
    "    \n",
    "    for class_label in classes:\n",
    "        class_dir = os.path.join(base, class_label)\n",
    "        for img_name in os.listdir(class_dir):\n",
    "            img_path = os.path.join(class_dir, img_name)\n",
    "            img = cv2.imread(img_path)\n",
    "            img = cv2.resize(img, img_size)  # Resize image to a fixed size\n",
    "            images.append(img)\n",
    "            labels.append(classes.index(class_label))\n",
    "    \n",
    "    images = np.array(images)\n",
    "    labels = np.array(labels)\n",
    "    return images, labels\n",
    "\n",
    "\n"
   ]
  },
  {
   "cell_type": "code",
   "execution_count": 4,
   "metadata": {},
   "outputs": [],
   "source": [
    "images, labels = load_images(base, classes)\n",
    "\n",
    "images = images / 255.0\n",
    "\n",
    "labels = to_categorical(labels, num_classes=len(classes))\n",
    "\n",
    "X_train, X_test, y_train, y_test = train_test_split(images, labels, test_size=0.2, random_state=42)\n",
    "train_indices = np.random.permutation(len(X_train))\n",
    "test_indices = np.random.permutation(len(X_test))\n",
    "\n",
    "# Shuffle x_train and y_train using the same shuffled indices\n",
    "X_train = X_train[train_indices]\n",
    "y_train = y_train[train_indices]\n",
    "\n",
    "# Shuffle x_test and y_test using the same shuffled indices\n",
    "X_test = X_test[test_indices]\n",
    "y_test = y_test[test_indices]"
   ]
  },
  {
   "cell_type": "code",
   "execution_count": 5,
   "metadata": {},
   "outputs": [
    {
     "name": "stdout",
     "output_type": "stream",
     "text": [
      "Epoch 1/10\n",
      "122/122 [==============================] - 48s 367ms/step - loss: 0.2250 - accuracy: 0.9038 - val_loss: 0.0767 - val_accuracy: 0.9774\n",
      "Epoch 2/10\n",
      "122/122 [==============================] - 45s 365ms/step - loss: 0.1054 - accuracy: 0.9723 - val_loss: 0.0646 - val_accuracy: 0.9867\n",
      "Epoch 3/10\n",
      "122/122 [==============================] - 43s 352ms/step - loss: 0.0868 - accuracy: 0.9761 - val_loss: 0.0796 - val_accuracy: 0.9764\n",
      "Epoch 4/10\n",
      "122/122 [==============================] - 42s 346ms/step - loss: 0.0837 - accuracy: 0.9787 - val_loss: 0.0344 - val_accuracy: 0.9918\n",
      "Epoch 5/10\n",
      "122/122 [==============================] - 43s 351ms/step - loss: 0.0555 - accuracy: 0.9843 - val_loss: 0.0238 - val_accuracy: 0.9908\n",
      "Epoch 6/10\n",
      "122/122 [==============================] - 43s 353ms/step - loss: 0.0651 - accuracy: 0.9823 - val_loss: 0.0362 - val_accuracy: 0.9877\n",
      "Epoch 7/10\n",
      "122/122 [==============================] - 43s 351ms/step - loss: 0.0965 - accuracy: 0.9751 - val_loss: 0.2817 - val_accuracy: 0.8738\n",
      "Epoch 8/10\n",
      "122/122 [==============================] - 43s 355ms/step - loss: 0.1545 - accuracy: 0.9515 - val_loss: 0.0396 - val_accuracy: 0.9928\n",
      "Epoch 9/10\n",
      "122/122 [==============================] - 44s 357ms/step - loss: 0.0515 - accuracy: 0.9885 - val_loss: 0.0507 - val_accuracy: 0.9918\n",
      "Epoch 10/10\n",
      "122/122 [==============================] - 43s 354ms/step - loss: 0.0465 - accuracy: 0.9887 - val_loss: 0.0093 - val_accuracy: 0.9949\n"
     ]
    },
    {
     "data": {
      "text/plain": [
       "<keras.src.callbacks.History at 0x23ea358f340>"
      ]
     },
     "execution_count": 5,
     "metadata": {},
     "output_type": "execute_result"
    }
   ],
   "source": [
    "model = Sequential()\n",
    "\n",
    "# Convolutional layers\n",
    "model.add(Conv2D(96, kernel_size=(11, 11), strides=(2, 2), activation='relu', input_shape=(30,70,3)))\n",
    "model.add(MaxPooling2D(pool_size=(3, 3), strides=(2, 2)))\n",
    "\n",
    "model.add(Conv2D(256, kernel_size=(5, 5), activation='relu', padding='same'))\n",
    "model.add(MaxPooling2D(pool_size=(3, 3), strides=(2, 2)))\n",
    "\n",
    "model.add(Conv2D(384, kernel_size=(3, 3), activation='relu', padding='same'))\n",
    "\n",
    "model.add(Conv2D(384, kernel_size=(3, 3), activation='relu', padding='same'))\n",
    "\n",
    "model.add(Conv2D(256, kernel_size=(3, 3), activation='relu', padding='same'))\n",
    "# model.add(MaxPooling2D(pool_size=(3, 3), strides=(2, 2)))\n",
    "# Dense layers\n",
    "model.add(Flatten())\n",
    "model.add(Dense(4096, activation='relu'))\n",
    "model.add(Dropout(0.5))\n",
    "\n",
    "model.add(Dense(4096, activation='relu'))\n",
    "model.add(Dropout(0.5))\n",
    "\n",
    "model.add(Dense(2, activation='softmax'))\n",
    "model.compile(optimizer='adam', loss='binary_crossentropy', metrics=['accuracy'])\n",
    "\n",
    "model.fit(X_train, y_train, epochs=10, validation_split=0.2)"
   ]
  },
  {
   "cell_type": "code",
   "execution_count": 6,
   "metadata": {},
   "outputs": [
    {
     "name": "stdout",
     "output_type": "stream",
     "text": [
      "39/39 [==============================] - 1s 36ms/step - loss: 0.0041 - accuracy: 0.9984\n"
     ]
    },
    {
     "data": {
      "text/plain": [
       "[0.004080541897565126, 0.9983579516410828]"
      ]
     },
     "execution_count": 6,
     "metadata": {},
     "output_type": "execute_result"
    }
   ],
   "source": [
    "model.evaluate(X_test,y_test)"
   ]
  },
  {
   "cell_type": "code",
   "execution_count": 7,
   "metadata": {},
   "outputs": [],
   "source": [
    "mask_image_path = 'mask_1920_1080.png'\n",
    "mask_img = cv2.imread(mask_image_path, cv2.IMREAD_GRAYSCALE)\n",
    "\n",
    "target_image_path = 'parking-1920-1080.jpg'\n",
    "target_img = cv2.imread(target_image_path)\n"
   ]
  },
  {
   "cell_type": "code",
   "execution_count": 8,
   "metadata": {},
   "outputs": [],
   "source": [
    "# Threshold the mask image to get a binary image\n",
    "_, binary_mask = cv2.threshold(mask_img, 127, 255, cv2.THRESH_BINARY)\n",
    "\n",
    "# Find contours in the binary mask\n",
    "contours, _ = cv2.findContours(binary_mask, cv2.RETR_EXTERNAL, cv2.CHAIN_APPROX_SIMPLE)\n"
   ]
  },
  {
   "cell_type": "code",
   "execution_count": 9,
   "metadata": {},
   "outputs": [],
   "source": [
    "output_dir = 'extracted_parts'\n",
    "os.makedirs(output_dir, exist_ok=True)\n",
    "\n",
    "# Extract and save the parts\n",
    "for i, contour in enumerate(contours):\n",
    "    # Get the bounding box of the contour\n",
    "    x, y, w, h = cv2.boundingRect(contour)\n",
    "    \n",
    "    # Extract the region of interest (ROI) from the target image\n",
    "    roi = target_img[y:y+h, x:x+w]\n",
    "    # Save the extracted part\n",
    "    part_path = os.path.join(output_dir, f'part_{i}.png')\n",
    "    roi_resized = cv2.resize(roi, (70, 30))\n",
    "    cv2.imwrite(part_path, roi_resized)"
   ]
  },
  {
   "cell_type": "code",
   "execution_count": 10,
   "metadata": {},
   "outputs": [],
   "source": [
    "# Initialize a list to store the extracted parts\n",
    "extracted_parts_array = np.empty((0, 30, 70, 3), dtype=np.uint8)  \n",
    "\n",
    "# Extract and store the parts\n",
    "for contour in contours:\n",
    "    # Get the bounding box of the contour\n",
    "    x, y, w, h = cv2.boundingRect(contour)\n",
    "    \n",
    "    # Extract the region of interest (ROI) from the target image\n",
    "    roi = target_img[y:y+h, x:x+w]\n",
    "    \n",
    "    # Resize ROI if needed to match expected size (e.g., 64x64 pixels)\n",
    "    roi_resized = cv2.resize(roi, (70, 30))/255.0\n",
    "    # Append the ROI to the NumPy array\n",
    "    extracted_parts_array = np.append(extracted_parts_array, [roi_resized], axis=0)\n"
   ]
  },
  {
   "cell_type": "code",
   "execution_count": 11,
   "metadata": {},
   "outputs": [
    {
     "name": "stdout",
     "output_type": "stream",
     "text": [
      "13/13 [==============================] - 1s 34ms/step\n",
      "Label Counts: [122 274]\n",
      "Label Counts with Labels: {'Empty': 122, 'Not Empty': 274}\n"
     ]
    }
   ],
   "source": [
    "predictions=model.predict(extracted_parts_array)\n",
    "predicted_labels = np.argmax(predictions, axis=1)\n",
    "\n",
    "# Count occurrences of each predicted label\n",
    "label_counts = np.bincount(predicted_labels)\n",
    "\n",
    "# Print label counts\n",
    "print(\"Label Counts:\", label_counts)\n",
    "\n",
    "# Optionally, if you want to map indices to actual labels:\n",
    "class_labels = ['Empty', 'Not Empty']\n",
    "label_counts_with_labels = {class_labels[i]: count for i, count in enumerate(label_counts)}\n",
    "print(\"Label Counts with Labels:\", label_counts_with_labels)"
   ]
  },
  {
   "cell_type": "code",
   "execution_count": 12,
   "metadata": {},
   "outputs": [
    {
     "name": "stdout",
     "output_type": "stream",
     "text": [
      "Model: \"sequential\"\n",
      "_________________________________________________________________\n",
      " Layer (type)                Output Shape              Param #   \n",
      "=================================================================\n",
      " conv2d (Conv2D)             (None, 10, 30, 96)        34944     \n",
      "                                                                 \n",
      " max_pooling2d (MaxPooling2  (None, 4, 14, 96)         0         \n",
      " D)                                                              \n",
      "                                                                 \n",
      " conv2d_1 (Conv2D)           (None, 4, 14, 256)        614656    \n",
      "                                                                 \n",
      " max_pooling2d_1 (MaxPoolin  (None, 1, 6, 256)         0         \n",
      " g2D)                                                            \n",
      "                                                                 \n",
      " conv2d_2 (Conv2D)           (None, 1, 6, 384)         885120    \n",
      "                                                                 \n",
      " conv2d_3 (Conv2D)           (None, 1, 6, 384)         1327488   \n",
      "                                                                 \n",
      " conv2d_4 (Conv2D)           (None, 1, 6, 256)         884992    \n",
      "                                                                 \n",
      " flatten (Flatten)           (None, 1536)              0         \n",
      "                                                                 \n",
      " dense (Dense)               (None, 4096)              6295552   \n",
      "                                                                 \n",
      " dropout (Dropout)           (None, 4096)              0         \n",
      "                                                                 \n",
      " dense_1 (Dense)             (None, 4096)              16781312  \n",
      "                                                                 \n",
      " dropout_1 (Dropout)         (None, 4096)              0         \n",
      "                                                                 \n",
      " dense_2 (Dense)             (None, 2)                 8194      \n",
      "                                                                 \n",
      "=================================================================\n",
      "Total params: 26832258 (102.36 MB)\n",
      "Trainable params: 26832258 (102.36 MB)\n",
      "Non-trainable params: 0 (0.00 Byte)\n",
      "_________________________________________________________________\n"
     ]
    }
   ],
   "source": [
    "model.summary()"
   ]
  },
  {
   "cell_type": "code",
   "execution_count": 44,
   "metadata": {},
   "outputs": [],
   "source": [
    "import onnxruntime as ort\n",
    "import asyncio\n",
    "cap = cv2.VideoCapture('parking_1920_1080.mp4')\n",
    "\n",
    "fourcc = cv2.VideoWriter_fourcc(*'XVID')\n",
    "out = cv2.VideoWriter('output_video.mp4', fourcc, 20.0, (1920, 1080))\n",
    "ort_session = ort.InferenceSession('model.onnx')\n",
    "frame_skip = 10  # Number of frames to skip\n",
    "frame_count = 0\n",
    "previous_prediction = None\n",
    "def predict_on_frame(frame):\n",
    "    extracted_parts_array = np.empty((0, 30, 70, 3), dtype=np.uint8)  \n",
    "\n",
    "    for contour in contours:\n",
    "        \n",
    "        x, y, w, h = cv2.boundingRect(contour)\n",
    "        target_img=frame\n",
    "        \n",
    "        roi = target_img[y:y+h, x:x+w]\n",
    "        roi = roi.astype(np.float32) \n",
    "        \n",
    "        roi_resized = cv2.resize(roi, (70, 30))/255.0\n",
    "        \n",
    "        extracted_parts_array = np.append(extracted_parts_array, [roi_resized], axis=0)\n",
    "    input_name = ort_session.get_inputs()[0].name\n",
    "    result = ort_session.run(None, {input_name: extracted_parts_array})\n",
    "    predicted_labels = np.argmax(result[0], axis=1)\n",
    "    label_counts = np.bincount(predicted_labels)\n",
    "    return label_counts\n",
    "    \n",
    "    \n",
    "while(cap.isOpened()):\n",
    "    ret, frame = cap.read()\n",
    "    \n",
    "    if ret:\n",
    "        if frame_count % frame_skip == 0:\n",
    "            label_counts=predict_on_frame(frame)\n",
    "            previous_prediction=label_counts\n",
    "        else:\n",
    "            label_counts=previous_prediction\n",
    "\n",
    "        cv2.putText(frame, f'Empty Spaces: {label_counts[0]}', (10, 30), \n",
    "                    cv2.FONT_HERSHEY_SIMPLEX, 1, (0, 255, 0), 2, cv2.LINE_AA)\n",
    "        \n",
    "        \n",
    "        \n",
    "        \n",
    "        out.write(frame)\n",
    "        frame_count += 1\n",
    "        \n",
    "    else:\n",
    "        break\n",
    "\n",
    "# Release everything when done\n",
    "cap.release()\n",
    "out.release()\n",
    "cv2.destroyAllWindows()"
   ]
  },
  {
   "cell_type": "code",
   "execution_count": 21,
   "metadata": {},
   "outputs": [
    {
     "name": "stdout",
     "output_type": "stream",
     "text": [
      "\n",
      "Caching the list of root modules, please wait!\n",
      "(This will only be done once - type '%rehashx' to reset cache!)\n",
      "\n"
     ]
    }
   ],
   "source": [
    "import tf2onnx\n",
    "import onnx\n",
    "onnx_model, _ = tf2onnx.convert.from_keras(model, opset=13)\n",
    "onnx.save(onnx_model, 'model.onnx')"
   ]
  },
  {
   "cell_type": "code",
   "execution_count": 28,
   "metadata": {},
   "outputs": [
    {
     "name": "stdout",
     "output_type": "stream",
     "text": [
      "Collecting asyncio"
     ]
    },
    {
     "name": "stderr",
     "output_type": "stream",
     "text": [
      "WARNING: Ignoring invalid distribution -rotobuf (c:\\users\\youss\\anaconda3\\lib\\site-packages)\n",
      "WARNING: Ignoring invalid distribution -rotobuf (c:\\users\\youss\\anaconda3\\lib\\site-packages)\n",
      "DEPRECATION: pyodbc 4.0.0-unsupported has a non-standard version number. pip 24.1 will enforce this behaviour change. A possible replacement is to upgrade to a newer version of pyodbc or contact the author to suggest that they release a version with a conforming version number. Discussion can be found at https://github.com/pypa/pip/issues/12063\n",
      "\n",
      "[notice] A new release of pip is available: 24.0 -> 24.1.1\n",
      "[notice] To update, run: python.exe -m pip install --upgrade pip\n"
     ]
    },
    {
     "name": "stdout",
     "output_type": "stream",
     "text": [
      "\n",
      "  Downloading asyncio-3.4.3-py3-none-any.whl.metadata (1.7 kB)\n",
      "Downloading asyncio-3.4.3-py3-none-any.whl (101 kB)\n",
      "   -------------------------------------- 101.8/101.8 kB 234.1 kB/s eta 0:00:00\n",
      "Installing collected packages: asyncio\n",
      "Successfully installed asyncio-3.4.3\n"
     ]
    }
   ],
   "source": []
  }
 ],
 "metadata": {
  "kernelspec": {
   "display_name": "base",
   "language": "python",
   "name": "python3"
  },
  "language_info": {
   "codemirror_mode": {
    "name": "ipython",
    "version": 3
   },
   "file_extension": ".py",
   "mimetype": "text/x-python",
   "name": "python",
   "nbconvert_exporter": "python",
   "pygments_lexer": "ipython3",
   "version": "3.8.5"
  }
 },
 "nbformat": 4,
 "nbformat_minor": 2
}
